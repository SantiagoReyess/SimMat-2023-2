{
 "cells": [
  {
   "cell_type": "markdown",
   "metadata": {},
   "source": [
    "# Modelo del rendimiento de una cuenta de ahorro\n",
    "\n",
    "<img style=\"center\" src=\"https://static.pexels.com/photos/9660/business-money-pink-coins.jpg\" width=\"500px\" height=\"200px\" alt=\"atom\"/>\n",
    "\n",
    "> **¿Tiene el dinero el mismo valor a lo largo del tiempo?** La respuesta es *no*. Todos lo hemos vivido. \n",
    "\n",
    "> Dos situaciones básicas:\n",
    "1. <font color=blue>Inflación</font>: ¿Cuánto dinero necesitabas para comprar unas papas y un refresco hace 10 años? ¿Cuánto necesitas hoy?\n",
    "2. <font color=blue>Interés</font>: no es lo mismo tener $\\$10000$ MXN disponibles hoy a recibir $\\$10000$ MXN en un año, pues los primeros pueden ser invertidos en un negocio o una cuenta bancaria para generar **interés**. Por lo tanto los $\\$10000$ MXN disponibles hoy valen más que los $\\$10000$ MXN que se recibirán en un año.\n",
    "\n",
    "Referencia:\n",
    "- Vidaurri Aguirre, Héctor Manuel. *Ingeniería económica básica*, ISBN: 978-607-519-017-4. (Disponible en biblioteca)"
   ]
  },
  {
   "cell_type": "markdown",
   "metadata": {},
   "source": [
    "Referencias:\n",
    "- http://www.sympy.org\n",
    "- http://matplotlib.org\n",
    "- http://www.numpy.org\n",
    "- http://ipywidgets.readthedocs.io/en/latest/index.html"
   ]
  },
  {
   "cell_type": "markdown",
   "metadata": {},
   "source": [
    "___\n",
    "## Interés\n",
    "Nos centraremos en como cambia el valor del dinero en el tiempo debido al **interés**. Existen dos tipos:"
   ]
  },
  {
   "cell_type": "markdown",
   "metadata": {},
   "source": [
    "### Capitalización por interés simple\n",
    "Este tipo de interés se calcula <font color=red>única y exclusivamente sobre la cantidad original que se invirtió</font>. Como consecuencia, el interés generado no forma parte del dinero que se invierte, es decir, los <font color=blue>intereses no ganan intereses</font>.\n",
    "\n",
    "Suponga que se tiene un capital inicial $C_0$ y se invierte a un plazo de $k$ periodos (pueden ser meses, trimestres, semestres, años...) a una tasa de **interés simple** por periodo $i$. Al final del primer periodo, el capital $C_1$ que se obtiene es:\n",
    "\n",
    "$$C_1=C_0+iC_0=C_0(1+i).$$\n",
    "\n",
    "De la misma manera, como el interés solo se calcula sobre el capital inicial, al final del segundo periodo, el capital $C_2$ que se obtiene es:\n",
    "\n",
    "$$C_2=C_1+iC_0=C_0+iC_0+iC_0=C_0(1+2i).$$\n",
    "\n",
    "Así, al final del $k-$ésimo periodo, el capital $C_k$ que se obtiene es:\n",
    "\n",
    "$$C_k=C_{k-1}+iC_0=C_0+kiC_0=C_0(1+ki).$$"
   ]
  },
  {
   "cell_type": "markdown",
   "metadata": {},
   "source": [
    "> **Ejemplo.** Suponga que se tiene un capital de $\\$10000$ MXN, el cual se pone en un fondo de inversión que paga una tasa de interés simple del $0.8\\%$ mensual. \n",
    "\n",
    "> Si se tiene una meta de ahorro de $\\$11000$ MXN sin inversiones adicionales, ¿cuántos meses se debería dejar invertido el dinero?"
   ]
  },
  {
   "cell_type": "code",
   "execution_count": 7,
   "metadata": {},
   "outputs": [
    {
     "name": "stdout",
     "output_type": "stream",
     "text": [
      "El número de períodos que se debe dejar invertido el dinero es  13 . Al final del perído  13  el capital es  11040.0\n"
     ]
    }
   ],
   "source": [
    "# Importar librería numpy\n",
    "import numpy as np\n",
    "\n",
    "# Datos del problema\n",
    "C0 = 10000\n",
    "i = 0.008\n",
    "Cf = 11000\n",
    "\n",
    "# Despejar k tal que C_k=meta\n",
    "k = np.ceil(((Cf/C0)-1)/i)\n",
    "k = k.astype(int)\n",
    "Ck = C0*(1+k*i)\n",
    "Ck = round(Ck,2)\n",
    "# Imprimimos respuesta en pantalla\n",
    "print(\"El número de períodos que se debe dejar invertido el dinero es \",k,\". Al final del perído \",k,\" el capital es \",Ck)"
   ]
  },
  {
   "cell_type": "markdown",
   "metadata": {},
   "source": [
    "> <font color=blue>**Actividad.**</font>\n",
    "1. ¿Qué pasa si el interés no es del $0.8\\%$ mensual sino del $1\\%$ mensual?\n",
    "2. ¿Qué pasa si la meta no son $\\$11000$ MXN si no $\\$12000$ MXN?"
   ]
  },
  {
   "cell_type": "code",
   "execution_count": 2,
   "metadata": {},
   "outputs": [
    {
     "data": {
      "text/plain": [
       "11100.000000000002"
      ]
     },
     "execution_count": 2,
     "metadata": {},
     "output_type": "execute_result"
    }
   ],
   "source": [
    "# Solución 1\n",
    "# Datos del problema\n",
    "C0 = 10000\n",
    "i = 0.01\n",
    "Cf = 11000\n",
    "\n",
    "k = np.ceil(((Cf/C0) - 1) / i)\n",
    "k\n",
    "Ck = C0 * (1 + k * i)\n",
    "Ck"
   ]
  },
  {
   "cell_type": "code",
   "execution_count": 3,
   "metadata": {},
   "outputs": [
    {
     "data": {
      "text/plain": [
       "12000.0"
      ]
     },
     "execution_count": 3,
     "metadata": {},
     "output_type": "execute_result"
    }
   ],
   "source": [
    "# Solución 2\n",
    "# Datos del problema\n",
    "C0 = 10000\n",
    "i = 0.008\n",
    "Cf = 12000\n",
    "\n",
    "k = np.ceil(((Cf/C0) - 1) / i)\n",
    "# k\n",
    "Ck = C0 * (1 + k * i)\n",
    "Ck"
   ]
  },
  {
   "cell_type": "markdown",
   "metadata": {},
   "source": [
    "> Una gráfica que nos permite ilustrar la situación anterior se puede realizar de la siguiente manera."
   ]
  },
  {
   "cell_type": "code",
   "execution_count": 10,
   "metadata": {
    "scrolled": false
   },
   "outputs": [
    {
     "data": {
      "application/vnd.jupyter.widget-view+json": {
       "model_id": "795c2c49e2f14788a1ab9a53cdd93d0a",
       "version_major": 2,
       "version_minor": 0
      },
      "text/plain": [
       "interactive(children=(IntSlider(value=11000, description='meta', max=12000, min=10000, step=100), FloatSlider(…"
      ]
     },
     "metadata": {},
     "output_type": "display_data"
    }
   ],
   "source": [
    "# Librerías para gráficos\n",
    "import matplotlib.pyplot as plt\n",
    "# Para que se muestren las gráficas en la misma ventana\n",
    "%matplotlib inline\n",
    "# Librería para widgets de jupyter\n",
    "from ipywidgets import *\n",
    "\n",
    "def interes_simple(C_0, meta, i):\n",
    "    # Despejamos k\n",
    "    k = np.ceil((meta/C_0 - 1)/i)           # Notar el uso de la función ceil\n",
    "    k = k.astype(int)                       # Conversión a entero\n",
    "    C_k = C_0*(1+k*i)                       # Cálculo del capital al final del periodo k\n",
    "    C_k = round(C_k, 2)                     # Redondeo con dos cifras decimales\n",
    "    # Vector de periodos\n",
    "    kk = np.linspace(0,k,k+1)               \n",
    "    # Vector de capitales por periodo\n",
    "    CC = C_0*(1+kk*i)\n",
    "    # Gráfico\n",
    "    plt.figure(num=1); \n",
    "    # Figura 1, borrar lo que contenga\n",
    "    plt.clf()            \n",
    "    # Se grafica la evolución de los capitales\n",
    "    plt.plot(kk, CC,'*',ms=10)              \n",
    "    # Se grafica la meta\n",
    "    plt.plot(kk,meta*np.ones(k+1),'--k')    \n",
    "    # Etiqueta eje x\n",
    "    plt.xlabel('$k$',fontsize=18)                         \n",
    "    # Etiqueta eje y\n",
    "    plt.ylabel('$C_k$',fontsize=18)                       \n",
    "    # Malla en la gráfica\n",
    "    plt.grid(True)                          \n",
    "    # Mostrar la figura\n",
    "    plt.show()                              \n",
    "    print(\"El número de periodos que se debe dejar invertido el dinero para llegar a la meta de \", meta,\" es \", k,\n",
    "          \". Al final del periodo \", k,\", el capital es \", C_k, \".\", sep=\"\")\n",
    "    \n",
    "interact_manual(interes_simple, C_0=fixed(10000), meta=(10000,12000,100), i=(0.001, .008, 0.001));"
   ]
  },
  {
   "cell_type": "markdown",
   "metadata": {},
   "source": [
    "Como se esperaba, el capital en el $k-$ésimo periodo $C_k=C_0(1+ki)$ crece linealmente con $k$."
   ]
  },
  {
   "cell_type": "markdown",
   "metadata": {},
   "source": [
    "### Capitalización por interés compuesto\n",
    "El capital que genera el interés simple permanece constante todo el tiempo de duración de la inversión. En cambio, el que produce el interés compuesto en un periodo se <font color=red>convierte en capital en el siguiente periodo</font>. Esto es, el interés generado al final de un periodo <font color=blue>se reinvierte para el siguiente periodo para también producir interés</font>.\n",
    "\n",
    "Suponga que se tiene un capital inicial $C_0$, y se va a ceder el uso de este capital por un periodo de tiempo determinado a una tasa de interés $i$. El capital que se obtiene al final del primer periodo $C_1$ se puede calcular por\n",
    "\n",
    "$$C_1=C_0(1+i).$$ \n",
    "\n",
    "Si la anterior suma se vuelve a ceder a la misma tasa de interés, al final del periodo dos el capital $C_2$ es \n",
    "\n",
    "$$C_2=C_1(1+i)=C_0(1+i)^2.$$\n",
    "\n",
    "Si se repite el anterior proceso $k$ veces, el capital al final del $k-$ésimo periodo $C_k$ es \n",
    "\n",
    "$$C_k=C_{k-1}(1+i)=C_0(1+i)^k.$$\n",
    "\n",
    "**Referencia**:\n",
    "- https://es.wikipedia.org/wiki/Inter%C3%A9s_compuesto."
   ]
  },
  {
   "cell_type": "markdown",
   "metadata": {},
   "source": [
    "> **Ejemplo.** Suponga que se tiene un capital de $\\$10000$ MXN, el cual se pone en un fondo de inversión que paga una tasa de interés del $0.8\\%$ mensual. \n",
    "\n",
    "> Si se tiene una meta de ahorro de $\\$11000$ MXN sin inversiones adicionales, ¿cuántos meses se debería dejar invertido el dinero?"
   ]
  },
  {
   "cell_type": "code",
   "execution_count": 11,
   "metadata": {},
   "outputs": [
    {
     "name": "stdout",
     "output_type": "stream",
     "text": [
      "El número de periodos que se debe dejar invertido el dinero es  12 . Al final del período  12  el capital  11003.39\n"
     ]
    }
   ],
   "source": [
    "#Solución\n",
    "C0 = 10000\n",
    "Cf = 11000\n",
    "i = 0.008\n",
    "\n",
    "k = np.ceil(np.log(Cf/C0)/np.log(1+i))\n",
    "k = k.astype(int)\n",
    "\n",
    "Ck = C0*(1+i)**k\n",
    "Ck = round(Ck,2)\n",
    "\n",
    "print(\"El número de periodos que se debe dejar invertido el dinero es \",k,\". Al final del período \",k,\" el capital \",Ck)"
   ]
  },
  {
   "cell_type": "code",
   "execution_count": 12,
   "metadata": {},
   "outputs": [
    {
     "data": {
      "image/png": "[encoded data removed]",
      "text/plain": [
       "<Figure size 640x480 with 1 Axes>"
      ]
     },
     "metadata": {},
     "output_type": "display_data"
    }
   ],
   "source": [
    "def f1(C0, meta, i):\n",
    "    k = np.ceil(np.log(meta/C0)/np.log(1+i))\n",
    "    k = k.astype(int)\n",
    "    \n",
    "    kk = np.linspace(0, k, k + 1)\n",
    "\n",
    "    Ck = C0*(1+i)**kk    \n",
    "    \n",
    "    plt.figure(num=1)\n",
    "    plt.clf()\n",
    "    \n",
    "    plt.plot(kk, Ck, 'r--')\n",
    "    \n",
    "    plt.show()\n",
    "    \n",
    "f1(C0, 20*Cf, i)\n",
    "    "
   ]
  },
  {
   "cell_type": "markdown",
   "metadata": {},
   "source": [
    "> Una gráfica que nos permite ilustrar la situación anterior se puede realizar de la siguiente manera."
   ]
  },
  {
   "cell_type": "code",
   "execution_count": 13,
   "metadata": {},
   "outputs": [
    {
     "data": {
      "application/vnd.jupyter.widget-view+json": {
       "model_id": "941b21c0a8cb4619996251f777015526",
       "version_major": 2,
       "version_minor": 0
      },
      "text/plain": [
       "interactive(children=(IntSlider(value=15000, description='meta', max=20000, min=10000, step=100), Button(descr…"
      ]
     },
     "metadata": {},
     "output_type": "display_data"
    }
   ],
   "source": [
    "def interes_compuesto(C_0, meta, i):\n",
    "    # Despejamos k\n",
    "    k = np.ceil(np.log(meta/C_0)/np.log(1+i))\n",
    "    k = k.astype(int)\n",
    "    C_k = C_0*(1+i)**k                      # Cálculo del capital al final del periodo k\n",
    "    C_k = round(C_k,2)\n",
    "    # Vector de periodos\n",
    "    kk = np.linspace(0, k, k+1)\n",
    "    # Vector de capitales por periodo\n",
    "    CC = C_0 * (1 + i)**kk\n",
    "    # Gráfico\n",
    "    plt.figure(num=1); \n",
    "    # Figura 1, borrar lo que contenga\n",
    "    plt.clf()            \n",
    "    # Se grafica la evolución de los capitales\n",
    "    plt.plot(kk, CC,'*',ms=10)              \n",
    "    # Se grafica la meta\n",
    "    plt.plot(kk,meta*np.ones(k+1),'--k')    \n",
    "    # Etiqueta eje x\n",
    "    plt.xlabel('$k$',fontsize=18)                         \n",
    "    # Etiqueta eje y\n",
    "    plt.ylabel('$C_k$',fontsize=18)                       \n",
    "    # Malla en la gráfica\n",
    "    plt.grid(True)                          \n",
    "    # Mostrar la figura\n",
    "    plt.show() \n",
    "    print(\"El número de periodos que se debe dejar invertido el dinero para llegar a la meta de \", meta,\" es \", k,\n",
    "          \". Al final del periodo \", k,\", el capital es \", C_k, \".\", sep=\"\")\n",
    "    \n",
    "interact_manual(interes_compuesto, C_0=fixed(10000), meta=(10000,20000,100), i=fixed(0.008));"
   ]
  },
  {
   "cell_type": "markdown",
   "metadata": {},
   "source": [
    "El capital en el $k-$ésimo periodo $C_k=C_0(1+i)^k$ crece de manera exponencial con $k$."
   ]
  },
  {
   "cell_type": "markdown",
   "metadata": {},
   "source": [
    "> <font color=blue>**Actividad.**</font>\n",
    "> - Modificar el código anterior para dejar fija la meta de ahorro y variar la tasa de interés compuesta."
   ]
  },
  {
   "cell_type": "code",
   "execution_count": 14,
   "metadata": {},
   "outputs": [
    {
     "data": {
      "application/vnd.jupyter.widget-view+json": {
       "model_id": "c75648e5ed47485e972dd5a2eeeef42b",
       "version_major": 2,
       "version_minor": 0
      },
      "text/plain": [
       "interactive(children=(IntSlider(value=12000, description='C_0', max=15000, min=10000, step=1000), FloatSlider(…"
      ]
     },
     "metadata": {},
     "output_type": "display_data"
    }
   ],
   "source": [
    "interact_manual(interes_compuesto, C_0=(10000, 15000, 1000), meta=fixed(20000), i=(0.01, 0.1, 0.01));"
   ]
  },
  {
   "cell_type": "code",
   "execution_count": 7,
   "metadata": {},
   "outputs": [
    {
     "data": {
      "application/vnd.jupyter.widget-view+json": {
       "model_id": "a8d49dc102d64ddbbfa37a82c7a7e392",
       "version_major": 2,
       "version_minor": 0
      },
      "text/plain": [
       "interactive(children=(IntSlider(value=11500, description='C_0', max=13000, min=10000, step=500), Button(descri…"
      ]
     },
     "metadata": {},
     "output_type": "display_data"
    }
   ],
   "source": []
  },
  {
   "cell_type": "markdown",
   "metadata": {},
   "source": [
    "### Capitalización continua de intereses\n",
    "La capitalización continua se considera un tipo de capitalización compuesta, en la que a cada instante de tiempo $t$ se capitalizan los intereses. Es decir, la frecuencia de capitalización es infinita (o, equivalentemente, el periodo de capitalización tiende a cero).\n",
    "\n",
    "Suponga que se tiene un capital inicial $C_0$, y que el capital acumulado en el tiempo $t$ es $C(t)$. Queremos saber cuanto será el capital pasado un periodo de tiempo $\\Delta t$, dado que la tasa de interés efectiva para este periodo de tiempo es $i$. De acuerdo a lo anterior tenemos\n",
    "\n",
    "$$C(t+\\Delta t)=C(t)(1+i)=C(t)(1+r\\Delta t),$$\n",
    "\n",
    "donde $r=\\frac{i}{\\Delta t}$ es la tasa de interés instantánea. Manipulando la anterior expresión, obtenemos\n",
    "\n",
    "$$\\frac{C(t+\\Delta t)-C(t)}{\\Delta t}=r\\; C(t).$$\n",
    "\n",
    "Haciendo $\\Delta t\\to 0$, obtenemos la siguiente ecuación diferencial \n",
    "\n",
    "$$\\frac{d C(t)}{dt}=r\\; C(t),$$\n",
    "\n",
    "sujeta a la condición inicial (monto o capital inicial) $C(0)=C_0$.\n",
    "\n",
    "La anterior, es una ecuación diferencial lineal de primer orden, para la cual se puede calcular la *solución analítica*."
   ]
  },
  {
   "cell_type": "markdown",
   "metadata": {},
   "source": [
    "$$C(t) = C_0e^{rt} \\longrightarrow C_k=C_0(1+i)^k$$\n",
    "\n",
    "La equivalencia entre la tasa de interés compuesta $i$ y la tasa de interés instantánea $r$ viene dada por\n",
    "\n",
    "$$e^r=1+i \\longrightarrow r = \\ln(1 + i).$$\n",
    "\n",
    "> **Nota**: \n",
    ">- La tasa de interés instantánea se puede interpretar como la tasa de interés que se aplica en cada instante de tiempo, sin intervalos discretos. \n",
    ">- La tasa de interés compuesta se puede interpretar como la tasa de interés que se aplica en un periodo fijo, por ejemplo un año, y que genera el mismo valor futuro que la tasa instantánea."
   ]
  },
  {
   "cell_type": "markdown",
   "metadata": {},
   "source": [
    "___\n",
    "¿Cómo podemos calcular la *solución numérica*?"
   ]
  },
  {
   "cell_type": "markdown",
   "metadata": {},
   "source": [
    "> **Ejemplo.** Suponga que se tiene un capital de $\\$10000$ MXN, el cual se pone en un fondo de inversión que paga una tasa de interés del $0.8\\%$ mensual. \n",
    "\n",
    "> Si se tiene una meta de ahorro de $\\$11000$ MXN sin inversiones adicionales, ¿cuánto tiempo se debe dejar invertido el dinero?\n",
    "\n",
    "> Muestre una gráfica que ilustre la situación."
   ]
  },
  {
   "cell_type": "code",
   "execution_count": 15,
   "metadata": {},
   "outputs": [],
   "source": [
    "# Librerías para integración numérica\n",
    "import scipy.integrate as ode"
   ]
  },
  {
   "cell_type": "code",
   "execution_count": 37,
   "metadata": {},
   "outputs": [
    {
     "data": {
      "image/png": "[encoded data removed]",
      "text/plain": [
       "<Figure size 432x288 with 1 Axes>"
      ]
     },
     "metadata": {
      "needs_background": "light"
     },
     "output_type": "display_data"
    }
   ],
   "source": [
    "# Solución analítica\n",
    "C0 = 10000\n",
    "Cf = 11000\n",
    "i = 0.008\n",
    "\n",
    "r = np.log(1 + i)\n",
    "tf = np.log(Cf / C0) / r\n",
    "tf\n",
    "\n",
    "t = np.linspace(0, tf, 200)\n",
    "\n",
    "plt.plot(t, C0 * np.exp(r * t), 'r', label='Tasa continua')\n",
    "plt.hlines(Cf, 0, tf, colors='k', label='meta')\n",
    "plt.legend(loc='best')\n",
    "plt.title('Solución analítica')\n",
    "plt.show()"
   ]
  },
  {
   "cell_type": "code",
   "execution_count": 17,
   "metadata": {},
   "outputs": [
    {
     "ename": "NameError",
     "evalue": "name 'tf' is not defined",
     "output_type": "error",
     "traceback": [
      "\u001b[0;31m---------------------------------------------------------------------------\u001b[0m",
      "\u001b[0;31mNameError\u001b[0m                                 Traceback (most recent call last)",
      "Cell \u001b[0;32mIn[17], line 6\u001b[0m\n\u001b[1;32m      3\u001b[0m     dc \u001b[38;5;241m=\u001b[39m r \u001b[38;5;241m*\u001b[39m c\n\u001b[1;32m      4\u001b[0m     \u001b[38;5;28;01mreturn\u001b[39;00m dc\n\u001b[0;32m----> 6\u001b[0m sol \u001b[38;5;241m=\u001b[39m ode\u001b[38;5;241m.\u001b[39msolve_ivp(cap_continuo, (\u001b[38;5;241m0\u001b[39m, \u001b[43mtf\u001b[49m), [C0], args\u001b[38;5;241m=\u001b[39m(r,), max_step\u001b[38;5;241m=\u001b[39m\u001b[38;5;241m0.1\u001b[39m)\n\u001b[1;32m      7\u001b[0m t \u001b[38;5;241m=\u001b[39m sol\u001b[38;5;241m.\u001b[39mt\n\u001b[1;32m      8\u001b[0m c \u001b[38;5;241m=\u001b[39m sol\u001b[38;5;241m.\u001b[39my\u001b[38;5;241m.\u001b[39mT\n",
      "\u001b[0;31mNameError\u001b[0m: name 'tf' is not defined"
     ]
    }
   ],
   "source": [
    "# Solución numérica\n",
    "def cap_continuo(t, c, r):\n",
    "    dc = r * c\n",
    "    return dc\n",
    "\n",
    "sol = ode.solve_ivp(cap_continuo, (0, tf), [C0], args=(r,), max_step=0.1)\n",
    "t = sol.t\n",
    "c = sol.y.T\n",
    "\n",
    "plt.plot(t, c, 'r', label='Tasa continua')\n",
    "plt.hlines(Cf, 0, tf, colors='k', label='meta')\n",
    "plt.legend(loc='best')\n",
    "plt.title('Solución numérica')\n",
    "plt.show()"
   ]
  },
  {
   "cell_type": "code",
   "execution_count": 18,
   "metadata": {
    "scrolled": false
   },
   "outputs": [
    {
     "data": {
      "application/vnd.jupyter.widget-view+json": {
       "model_id": "8b97fa99f70b45588daeda94b912d23c",
       "version_major": 2,
       "version_minor": 0
      },
      "text/plain": [
       "interactive(children=(IntSlider(value=15500, description='meta', max=20000, min=11000, step=100), Button(descr…"
      ]
     },
     "metadata": {},
     "output_type": "display_data"
    }
   ],
   "source": [
    "# Modelo de capitalización continua\n",
    "\n",
    "def interes_continuo(C_0, meta, r):\n",
    "    # Despejamos t\n",
    "    t = np.log(meta/C_0)/r\n",
    "    # Vector de capitales por periodo\n",
    "    CC = ode.solve_ivp(cap_continuo, (0, t), [C0], max_step=.01, args=(r,))\n",
    "    tt = CC.t\n",
    "    # Gráfico\n",
    "    plt.figure(num=1)\n",
    "    plt.clf()                # Figura 1, borrar lo que contenga\n",
    "    plt.plot(tt, CC.y.T,'-',linewidth=3.0)          # Se grafica la evolución de los capitales\n",
    "    plt.plot(tt,meta*np.ones(len(tt)),'--k')    # Se grafica la meta\n",
    "    plt.xlabel('t')                             # Etiqueta eje x\n",
    "    plt.ylabel('C(t)')                          # Etiqueta eje y\n",
    "    plt.grid(True)                              # Malla en la gráfica\n",
    "    plt.show()                                  # Mostrar la figura\n",
    "    print(\"El tiempo que se debe dejar invertido el dinero para llegar a la meta de \", meta,\" es \", t, \" meses.\", sep=\"\")\n",
    "\n",
    "i = 0.008\n",
    "\n",
    "interact_manual(interes_continuo, C_0=fixed(10000), meta=(11000,20000,100), r=fixed(np.log(1+i)));"
   ]
  },
  {
   "cell_type": "markdown",
   "metadata": {},
   "source": [
    "___\n",
    "## Tabla de abonos\n",
    "Como aplicación importante del concepto de interés compuesto se encuentra la creación de un modelo de cuenta de ahorro.\n",
    "\n",
    "Referencia:\n",
    "- Vidaurri Aguirre, Héctor Manuel. *Ingeniería económica básica*, ISBN: 978-607-519-017-4. (Disponible en biblioteca)\n",
    "- http://pbpython.com/amortization-model.html\n",
    "- https://pbpython.com/amortization-model-revised.html"
   ]
  },
  {
   "cell_type": "markdown",
   "metadata": {},
   "source": [
    "## Debemos de instalar las paqueterías necesarias\n",
    "\n",
    "> ## Numpy-financial\n",
    "> To install this package run one of the following:\n",
    "> `conda install -c conda-forge numpy-financial`"
   ]
  },
  {
   "cell_type": "code",
   "execution_count": 19,
   "metadata": {},
   "outputs": [],
   "source": [
    "# Librería de análisis de datos\n",
    "import pandas as pd\n",
    "# Librería para manipulación de fechas\n",
    "from datetime import date\n",
    "import numpy as np\n",
    "import numpy_financial as npf"
   ]
  },
  {
   "cell_type": "code",
   "execution_count": 21,
   "metadata": {},
   "outputs": [],
   "source": [
    "# Datos para la cuenta de ahorro\n",
    "tasa_interes = 0.08\n",
    "years = 3\n",
    "Abono_year = 12\n",
    "inicial = 6000\n",
    "meta = 50000\n",
    "fecha_inicio = (date(2019,11,27))"
   ]
  },
  {
   "cell_type": "code",
   "execution_count": 20,
   "metadata": {
    "scrolled": true
   },
   "outputs": [
    {
     "name": "stdout",
     "output_type": "stream",
     "text": [
      "Help on function pmt in module numpy_financial._financial:\n",
      "\n",
      "pmt(rate, nper, pv, fv=0, when='end')\n",
      "    Compute the payment against loan principal plus interest.\n",
      "    \n",
      "    Given:\n",
      "     * a present value, `pv` (e.g., an amount borrowed)\n",
      "     * a future value, `fv` (e.g., 0)\n",
      "     * an interest `rate` compounded once per period, of which\n",
      "       there are\n",
      "     * `nper` total\n",
      "     * and (optional) specification of whether payment is made\n",
      "       at the beginning (`when` = {'begin', 1}) or the end\n",
      "       (`when` = {'end', 0}) of each period\n",
      "    \n",
      "    Return:\n",
      "       the (fixed) periodic payment.\n",
      "    \n",
      "    Parameters\n",
      "    ----------\n",
      "    rate : array_like\n",
      "        Rate of interest (per period)\n",
      "    nper : array_like\n",
      "        Number of compounding periods\n",
      "    pv : array_like\n",
      "        Present value\n",
      "    fv : array_like,  optional\n",
      "        Future value (default = 0)\n",
      "    when : {{'begin', 1}, {'end', 0}}, {string, int}\n",
      "        When payments are due ('begin' (1) or 'end' (0))\n",
      "    \n",
      "    Returns\n",
      "    -------\n",
      "    out : ndarray\n",
      "        Payment against loan plus interest.  If all input is scalar, returns a\n",
      "        scalar float.  If any input is array_like, returns payment for each\n",
      "        input element. If multiple inputs are array_like, they all must have\n",
      "        the same shape.\n",
      "    \n",
      "    Notes\n",
      "    -----\n",
      "    The payment is computed by solving the equation::\n",
      "    \n",
      "     fv +\n",
      "     pv*(1 + rate)**nper +\n",
      "     pmt*(1 + rate*when)/rate*((1 + rate)**nper - 1) == 0\n",
      "    \n",
      "    or, when ``rate == 0``::\n",
      "    \n",
      "      fv + pv + pmt * nper == 0\n",
      "    \n",
      "    for ``pmt``.\n",
      "    \n",
      "    Note that computing a monthly mortgage payment is only\n",
      "    one use for this function.  For example, pmt returns the\n",
      "    periodic deposit one must make to achieve a specified\n",
      "    future balance given an initial deposit, a fixed,\n",
      "    periodically compounded interest rate, and the total\n",
      "    number of periods.\n",
      "    \n",
      "    References\n",
      "    ----------\n",
      "    .. [WRW] Wheeler, D. A., E. Rathke, and R. Weir (Eds.) (2009, May).\n",
      "       Open Document Format for Office Applications (OpenDocument)v1.2,\n",
      "       Part 2: Recalculated Formula (OpenFormula) Format - Annotated Version,\n",
      "       Pre-Draft 12. Organization for the Advancement of Structured Information\n",
      "       Standards (OASIS). Billerica, MA, USA. [ODT Document].\n",
      "       Available:\n",
      "       http://www.oasis-open.org/committees/documents.php\n",
      "       ?wg_abbrev=office-formulaOpenDocument-formula-20090508.odt\n",
      "    \n",
      "    Examples\n",
      "    --------\n",
      "    >>> import numpy_financial as npf\n",
      "    \n",
      "    What is the monthly payment needed to pay off a $200,000 loan in 15\n",
      "    years at an annual interest rate of 7.5%?\n",
      "    \n",
      "    >>> npf.pmt(0.075/12, 12*15, 200000)\n",
      "    -1854.0247200054619\n",
      "    \n",
      "    In order to pay-off (i.e., have a future-value of 0) the $200,000 obtained\n",
      "    today, a monthly payment of $1,854.02 would be required.  Note that this\n",
      "    example illustrates usage of `fv` having a default value of 0.\n",
      "\n"
     ]
    }
   ],
   "source": [
    "help(npf.pmt)"
   ]
  },
  {
   "cell_type": "code",
   "execution_count": 22,
   "metadata": {},
   "outputs": [
    {
     "data": {
      "text/plain": [
       "1378.8000803029693"
      ]
     },
     "execution_count": 22,
     "metadata": {},
     "output_type": "execute_result"
    }
   ],
   "source": [
    "# Cálculo de abonos mensuales iguales para llegar a la meta de ahorro en el tiempo deseado\n",
    "Abono = -npf.pmt(tasa_interes/Abono_year,years*Abono_year,(meta-inicial))\n",
    "Abono"
   ]
  },
  {
   "cell_type": "code",
   "execution_count": null,
   "metadata": {},
   "outputs": [],
   "source": []
  },
  {
   "cell_type": "code",
   "execution_count": 23,
   "metadata": {
    "scrolled": true
   },
   "outputs": [
    {
     "data": {
      "text/html": [
       "<div>\n",
       "<style scoped>\n",
       "    .dataframe tbody tr th:only-of-type {\n",
       "        vertical-align: middle;\n",
       "    }\n",
       "\n",
       "    .dataframe tbody tr th {\n",
       "        vertical-align: top;\n",
       "    }\n",
       "\n",
       "    .dataframe thead th {\n",
       "        text-align: right;\n",
       "    }\n",
       "</style>\n",
       "<table border=\"1\" class=\"dataframe\">\n",
       "  <thead>\n",
       "    <tr style=\"text-align: right;\">\n",
       "      <th></th>\n",
       "      <th>Fecha del abono</th>\n",
       "      <th>Abono</th>\n",
       "      <th>Balance</th>\n",
       "    </tr>\n",
       "    <tr>\n",
       "      <th>Periodo</th>\n",
       "      <th></th>\n",
       "      <th></th>\n",
       "      <th></th>\n",
       "    </tr>\n",
       "  </thead>\n",
       "  <tbody>\n",
       "    <tr>\n",
       "      <th>1</th>\n",
       "      <td>2019-11-30</td>\n",
       "      <td>NaN</td>\n",
       "      <td>NaN</td>\n",
       "    </tr>\n",
       "    <tr>\n",
       "      <th>2</th>\n",
       "      <td>2019-12-31</td>\n",
       "      <td>NaN</td>\n",
       "      <td>NaN</td>\n",
       "    </tr>\n",
       "    <tr>\n",
       "      <th>3</th>\n",
       "      <td>2020-01-31</td>\n",
       "      <td>NaN</td>\n",
       "      <td>NaN</td>\n",
       "    </tr>\n",
       "    <tr>\n",
       "      <th>4</th>\n",
       "      <td>2020-02-29</td>\n",
       "      <td>NaN</td>\n",
       "      <td>NaN</td>\n",
       "    </tr>\n",
       "    <tr>\n",
       "      <th>5</th>\n",
       "      <td>2020-03-31</td>\n",
       "      <td>NaN</td>\n",
       "      <td>NaN</td>\n",
       "    </tr>\n",
       "  </tbody>\n",
       "</table>\n",
       "</div>"
      ],
      "text/plain": [
       "        Fecha del abono  Abono  Balance\n",
       "Periodo                                \n",
       "1            2019-11-30    NaN      NaN\n",
       "2            2019-12-31    NaN      NaN\n",
       "3            2020-01-31    NaN      NaN\n",
       "4            2020-02-29    NaN      NaN\n",
       "5            2020-03-31    NaN      NaN"
      ]
     },
     "execution_count": 23,
     "metadata": {},
     "output_type": "execute_result"
    }
   ],
   "source": [
    "# Rango de fechas en la tabla\n",
    "rng = pd.date_range(fecha_inicio, periods=years*Abono_year, freq='M')\n",
    "rng.name = 'Fecha del abono'\n",
    "# Columnas de abonos y extracto de cuenta en las fechas respectivas\n",
    "df = pd.DataFrame(index = rng,columns=['Abono','Balance'],dtype='float')\n",
    "# Para poner el indice con los periodos y no con las fechas\n",
    "df.reset_index(inplace=True)\n",
    "\n",
    "df.index+=1\n",
    "df.index.name='Periodo'\n",
    "df.head()"
   ]
  },
  {
   "cell_type": "code",
   "execution_count": 24,
   "metadata": {},
   "outputs": [
    {
     "data": {
      "text/plain": [
       "-34.01458267927129"
      ]
     },
     "execution_count": 24,
     "metadata": {},
     "output_type": "execute_result"
    }
   ],
   "source": [
    "npf.ppmt(tasa_interes/Abono_year, 1, years * Abono_year, Abono)"
   ]
  },
  {
   "cell_type": "code",
   "execution_count": 25,
   "metadata": {},
   "outputs": [
    {
     "data": {
      "text/html": [
       "<div>\n",
       "<style scoped>\n",
       "    .dataframe tbody tr th:only-of-type {\n",
       "        vertical-align: middle;\n",
       "    }\n",
       "\n",
       "    .dataframe tbody tr th {\n",
       "        vertical-align: top;\n",
       "    }\n",
       "\n",
       "    .dataframe thead th {\n",
       "        text-align: right;\n",
       "    }\n",
       "</style>\n",
       "<table border=\"1\" class=\"dataframe\">\n",
       "  <thead>\n",
       "    <tr style=\"text-align: right;\">\n",
       "      <th></th>\n",
       "      <th>Fecha del abono</th>\n",
       "      <th>Abono</th>\n",
       "      <th>Balance</th>\n",
       "    </tr>\n",
       "    <tr>\n",
       "      <th>Periodo</th>\n",
       "      <th></th>\n",
       "      <th></th>\n",
       "      <th></th>\n",
       "    </tr>\n",
       "  </thead>\n",
       "  <tbody>\n",
       "    <tr>\n",
       "      <th>1</th>\n",
       "      <td>2019-11-30</td>\n",
       "      <td>1378.80008</td>\n",
       "      <td>7418.800080</td>\n",
       "    </tr>\n",
       "    <tr>\n",
       "      <th>2</th>\n",
       "      <td>2019-12-31</td>\n",
       "      <td>1378.80008</td>\n",
       "      <td>8847.058828</td>\n",
       "    </tr>\n",
       "    <tr>\n",
       "      <th>3</th>\n",
       "      <td>2020-01-31</td>\n",
       "      <td>1378.80008</td>\n",
       "      <td>10284.839300</td>\n",
       "    </tr>\n",
       "    <tr>\n",
       "      <th>4</th>\n",
       "      <td>2020-02-29</td>\n",
       "      <td>1378.80008</td>\n",
       "      <td>11732.204976</td>\n",
       "    </tr>\n",
       "    <tr>\n",
       "      <th>5</th>\n",
       "      <td>2020-03-31</td>\n",
       "      <td>1378.80008</td>\n",
       "      <td>13189.219756</td>\n",
       "    </tr>\n",
       "  </tbody>\n",
       "</table>\n",
       "</div>"
      ],
      "text/plain": [
       "        Fecha del abono       Abono       Balance\n",
       "Periodo                                          \n",
       "1            2019-11-30  1378.80008   7418.800080\n",
       "2            2019-12-31  1378.80008   8847.058828\n",
       "3            2020-01-31  1378.80008  10284.839300\n",
       "4            2020-02-29  1378.80008  11732.204976\n",
       "5            2020-03-31  1378.80008  13189.219756"
      ]
     },
     "execution_count": 25,
     "metadata": {},
     "output_type": "execute_result"
    }
   ],
   "source": [
    "# Los abonos son iguales\n",
    "df['Abono'] = Abono\n",
    "# Vector indizador de los periodos de los abonos\n",
    "index_vector = np.arange(1,len(rng)+1)\n",
    "# Extracto de la cuenta mes a mes\n",
    "df[\"Balance\"] = inicial * (1 + tasa_interes/Abono_year)**index_vector + \\\n",
    "                Abono * (((1 + tasa_interes/Abono_year)**index_vector - 1)/(tasa_interes/Abono_year))\n",
    "\n",
    "df.head()"
   ]
  },
  {
   "cell_type": "code",
   "execution_count": 26,
   "metadata": {
    "scrolled": true
   },
   "outputs": [
    {
     "data": {
      "text/html": [
       "<div>\n",
       "<style scoped>\n",
       "    .dataframe tbody tr th:only-of-type {\n",
       "        vertical-align: middle;\n",
       "    }\n",
       "\n",
       "    .dataframe tbody tr th {\n",
       "        vertical-align: top;\n",
       "    }\n",
       "\n",
       "    .dataframe thead th {\n",
       "        text-align: right;\n",
       "    }\n",
       "</style>\n",
       "<table border=\"1\" class=\"dataframe\">\n",
       "  <thead>\n",
       "    <tr style=\"text-align: right;\">\n",
       "      <th></th>\n",
       "      <th>Fecha del abono</th>\n",
       "      <th>Abono</th>\n",
       "      <th>Balance</th>\n",
       "    </tr>\n",
       "    <tr>\n",
       "      <th>Periodo</th>\n",
       "      <th></th>\n",
       "      <th></th>\n",
       "      <th></th>\n",
       "    </tr>\n",
       "  </thead>\n",
       "  <tbody>\n",
       "    <tr>\n",
       "      <th>1</th>\n",
       "      <td>2019-11-30</td>\n",
       "      <td>1378.8</td>\n",
       "      <td>7418.80</td>\n",
       "    </tr>\n",
       "    <tr>\n",
       "      <th>2</th>\n",
       "      <td>2019-12-31</td>\n",
       "      <td>1378.8</td>\n",
       "      <td>8847.06</td>\n",
       "    </tr>\n",
       "    <tr>\n",
       "      <th>3</th>\n",
       "      <td>2020-01-31</td>\n",
       "      <td>1378.8</td>\n",
       "      <td>10284.84</td>\n",
       "    </tr>\n",
       "    <tr>\n",
       "      <th>4</th>\n",
       "      <td>2020-02-29</td>\n",
       "      <td>1378.8</td>\n",
       "      <td>11732.20</td>\n",
       "    </tr>\n",
       "    <tr>\n",
       "      <th>5</th>\n",
       "      <td>2020-03-31</td>\n",
       "      <td>1378.8</td>\n",
       "      <td>13189.22</td>\n",
       "    </tr>\n",
       "    <tr>\n",
       "      <th>6</th>\n",
       "      <td>2020-04-30</td>\n",
       "      <td>1378.8</td>\n",
       "      <td>14655.95</td>\n",
       "    </tr>\n",
       "    <tr>\n",
       "      <th>7</th>\n",
       "      <td>2020-05-31</td>\n",
       "      <td>1378.8</td>\n",
       "      <td>16132.45</td>\n",
       "    </tr>\n",
       "    <tr>\n",
       "      <th>8</th>\n",
       "      <td>2020-06-30</td>\n",
       "      <td>1378.8</td>\n",
       "      <td>17618.80</td>\n",
       "    </tr>\n",
       "    <tr>\n",
       "      <th>9</th>\n",
       "      <td>2020-07-31</td>\n",
       "      <td>1378.8</td>\n",
       "      <td>19115.06</td>\n",
       "    </tr>\n",
       "    <tr>\n",
       "      <th>10</th>\n",
       "      <td>2020-08-31</td>\n",
       "      <td>1378.8</td>\n",
       "      <td>20621.30</td>\n",
       "    </tr>\n",
       "    <tr>\n",
       "      <th>11</th>\n",
       "      <td>2020-09-30</td>\n",
       "      <td>1378.8</td>\n",
       "      <td>22137.57</td>\n",
       "    </tr>\n",
       "    <tr>\n",
       "      <th>12</th>\n",
       "      <td>2020-10-31</td>\n",
       "      <td>1378.8</td>\n",
       "      <td>23663.96</td>\n",
       "    </tr>\n",
       "    <tr>\n",
       "      <th>13</th>\n",
       "      <td>2020-11-30</td>\n",
       "      <td>1378.8</td>\n",
       "      <td>25200.52</td>\n",
       "    </tr>\n",
       "    <tr>\n",
       "      <th>14</th>\n",
       "      <td>2020-12-31</td>\n",
       "      <td>1378.8</td>\n",
       "      <td>26747.32</td>\n",
       "    </tr>\n",
       "    <tr>\n",
       "      <th>15</th>\n",
       "      <td>2021-01-31</td>\n",
       "      <td>1378.8</td>\n",
       "      <td>28304.43</td>\n",
       "    </tr>\n",
       "    <tr>\n",
       "      <th>16</th>\n",
       "      <td>2021-02-28</td>\n",
       "      <td>1378.8</td>\n",
       "      <td>29871.93</td>\n",
       "    </tr>\n",
       "    <tr>\n",
       "      <th>17</th>\n",
       "      <td>2021-03-31</td>\n",
       "      <td>1378.8</td>\n",
       "      <td>31449.88</td>\n",
       "    </tr>\n",
       "    <tr>\n",
       "      <th>18</th>\n",
       "      <td>2021-04-30</td>\n",
       "      <td>1378.8</td>\n",
       "      <td>33038.34</td>\n",
       "    </tr>\n",
       "    <tr>\n",
       "      <th>19</th>\n",
       "      <td>2021-05-31</td>\n",
       "      <td>1378.8</td>\n",
       "      <td>34637.40</td>\n",
       "    </tr>\n",
       "    <tr>\n",
       "      <th>20</th>\n",
       "      <td>2021-06-30</td>\n",
       "      <td>1378.8</td>\n",
       "      <td>36247.12</td>\n",
       "    </tr>\n",
       "    <tr>\n",
       "      <th>21</th>\n",
       "      <td>2021-07-31</td>\n",
       "      <td>1378.8</td>\n",
       "      <td>37867.56</td>\n",
       "    </tr>\n",
       "    <tr>\n",
       "      <th>22</th>\n",
       "      <td>2021-08-31</td>\n",
       "      <td>1378.8</td>\n",
       "      <td>39498.81</td>\n",
       "    </tr>\n",
       "    <tr>\n",
       "      <th>23</th>\n",
       "      <td>2021-09-30</td>\n",
       "      <td>1378.8</td>\n",
       "      <td>41140.94</td>\n",
       "    </tr>\n",
       "    <tr>\n",
       "      <th>24</th>\n",
       "      <td>2021-10-31</td>\n",
       "      <td>1378.8</td>\n",
       "      <td>42794.01</td>\n",
       "    </tr>\n",
       "    <tr>\n",
       "      <th>25</th>\n",
       "      <td>2021-11-30</td>\n",
       "      <td>1378.8</td>\n",
       "      <td>44458.11</td>\n",
       "    </tr>\n",
       "    <tr>\n",
       "      <th>26</th>\n",
       "      <td>2021-12-31</td>\n",
       "      <td>1378.8</td>\n",
       "      <td>46133.29</td>\n",
       "    </tr>\n",
       "    <tr>\n",
       "      <th>27</th>\n",
       "      <td>2022-01-31</td>\n",
       "      <td>1378.8</td>\n",
       "      <td>47819.65</td>\n",
       "    </tr>\n",
       "    <tr>\n",
       "      <th>28</th>\n",
       "      <td>2022-02-28</td>\n",
       "      <td>1378.8</td>\n",
       "      <td>49517.25</td>\n",
       "    </tr>\n",
       "    <tr>\n",
       "      <th>29</th>\n",
       "      <td>2022-03-31</td>\n",
       "      <td>1378.8</td>\n",
       "      <td>51226.16</td>\n",
       "    </tr>\n",
       "    <tr>\n",
       "      <th>30</th>\n",
       "      <td>2022-04-30</td>\n",
       "      <td>1378.8</td>\n",
       "      <td>52946.47</td>\n",
       "    </tr>\n",
       "    <tr>\n",
       "      <th>31</th>\n",
       "      <td>2022-05-31</td>\n",
       "      <td>1378.8</td>\n",
       "      <td>54678.25</td>\n",
       "    </tr>\n",
       "    <tr>\n",
       "      <th>32</th>\n",
       "      <td>2022-06-30</td>\n",
       "      <td>1378.8</td>\n",
       "      <td>56421.57</td>\n",
       "    </tr>\n",
       "    <tr>\n",
       "      <th>33</th>\n",
       "      <td>2022-07-31</td>\n",
       "      <td>1378.8</td>\n",
       "      <td>58176.51</td>\n",
       "    </tr>\n",
       "    <tr>\n",
       "      <th>34</th>\n",
       "      <td>2022-08-31</td>\n",
       "      <td>1378.8</td>\n",
       "      <td>59943.15</td>\n",
       "    </tr>\n",
       "    <tr>\n",
       "      <th>35</th>\n",
       "      <td>2022-09-30</td>\n",
       "      <td>1378.8</td>\n",
       "      <td>61721.58</td>\n",
       "    </tr>\n",
       "    <tr>\n",
       "      <th>36</th>\n",
       "      <td>2022-10-31</td>\n",
       "      <td>1378.8</td>\n",
       "      <td>63511.85</td>\n",
       "    </tr>\n",
       "  </tbody>\n",
       "</table>\n",
       "</div>"
      ],
      "text/plain": [
       "        Fecha del abono   Abono   Balance\n",
       "Periodo                                  \n",
       "1            2019-11-30  1378.8   7418.80\n",
       "2            2019-12-31  1378.8   8847.06\n",
       "3            2020-01-31  1378.8  10284.84\n",
       "4            2020-02-29  1378.8  11732.20\n",
       "5            2020-03-31  1378.8  13189.22\n",
       "6            2020-04-30  1378.8  14655.95\n",
       "7            2020-05-31  1378.8  16132.45\n",
       "8            2020-06-30  1378.8  17618.80\n",
       "9            2020-07-31  1378.8  19115.06\n",
       "10           2020-08-31  1378.8  20621.30\n",
       "11           2020-09-30  1378.8  22137.57\n",
       "12           2020-10-31  1378.8  23663.96\n",
       "13           2020-11-30  1378.8  25200.52\n",
       "14           2020-12-31  1378.8  26747.32\n",
       "15           2021-01-31  1378.8  28304.43\n",
       "16           2021-02-28  1378.8  29871.93\n",
       "17           2021-03-31  1378.8  31449.88\n",
       "18           2021-04-30  1378.8  33038.34\n",
       "19           2021-05-31  1378.8  34637.40\n",
       "20           2021-06-30  1378.8  36247.12\n",
       "21           2021-07-31  1378.8  37867.56\n",
       "22           2021-08-31  1378.8  39498.81\n",
       "23           2021-09-30  1378.8  41140.94\n",
       "24           2021-10-31  1378.8  42794.01\n",
       "25           2021-11-30  1378.8  44458.11\n",
       "26           2021-12-31  1378.8  46133.29\n",
       "27           2022-01-31  1378.8  47819.65\n",
       "28           2022-02-28  1378.8  49517.25\n",
       "29           2022-03-31  1378.8  51226.16\n",
       "30           2022-04-30  1378.8  52946.47\n",
       "31           2022-05-31  1378.8  54678.25\n",
       "32           2022-06-30  1378.8  56421.57\n",
       "33           2022-07-31  1378.8  58176.51\n",
       "34           2022-08-31  1378.8  59943.15\n",
       "35           2022-09-30  1378.8  61721.58\n",
       "36           2022-10-31  1378.8  63511.85"
      ]
     },
     "execution_count": 26,
     "metadata": {},
     "output_type": "execute_result"
    }
   ],
   "source": [
    "# Redondear con dos cifras decimales y mostrar DataFrame\n",
    "df = df.round(2)\n",
    "df"
   ]
  },
  {
   "cell_type": "code",
   "execution_count": null,
   "metadata": {},
   "outputs": [],
   "source": []
  },
  {
   "cell_type": "markdown",
   "metadata": {},
   "source": [
    "## Tarea.\n",
    "> - Consultar tasas de interés reales en algún banco y proyectar un ahorro mensual para que al terminar su carrera tengan $\\$85000$ MXN en su cuenta.\n",
    "> - Hacer esto en un nuevo archivo, llamarlo Gi_T7ApellidoNombre.ipynb y subirlo a canvas. Donde $i=1,2$ es el número del grupo al que pertenece \n",
    "> - Plazo: \n",
    "> # Entrega 14 de noviembre a las 19:59 en parejas"
   ]
  },
  {
   "cell_type": "markdown",
   "metadata": {
    "collapsed": true
   },
   "source": [
    "<script>\n",
    "  $(document).ready(function(){\n",
    "    $('div.prompt').hide();\n",
    "    $('div.back-to-top').hide();\n",
    "    $('nav#menubar').hide();\n",
    "    $('.breadcrumb').hide();\n",
    "    $('.hidden-print').hide();\n",
    "  });\n",
    "</script>\n",
    "\n",
    "<footer id=\"attribution\" style=\"float:right; color:#808080; background:#fff;\">\n",
    "Created with Jupyter by Cristian Camilo Zapata Zuluaga.\n",
    "</footer>"
   ]
  }
 ],
 "metadata": {
  "kernelspec": {
   "display_name": "Python 3 (ipykernel)",
   "language": "python",
   "name": "python3"
  },
  "language_info": {
   "codemirror_mode": {
    "name": "ipython",
    "version": 3
   },
   "file_extension": ".py",
   "mimetype": "text/x-python",
   "name": "python",
   "nbconvert_exporter": "python",
   "pygments_lexer": "ipython3",
   "version": "3.9.18"
  }
 },
 "nbformat": 4,
 "nbformat_minor": 2
}
